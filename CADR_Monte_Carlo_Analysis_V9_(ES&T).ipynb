{
  "nbformat": 4,
  "nbformat_minor": 0,
  "metadata": {
    "colab": {
      "provenance": [],
      "toc_visible": true,
      "authorship_tag": "ABX9TyPgC8I6G9fRF5hAcv/pWYNj",
      "include_colab_link": true
    },
    "kernelspec": {
      "name": "python3",
      "display_name": "Python 3"
    },
    "language_info": {
      "name": "python"
    }
  },
  "cells": [
    {
      "cell_type": "markdown",
      "metadata": {
        "id": "view-in-github",
        "colab_type": "text"
      },
      "source": [
        "<a href=\"https://colab.research.google.com/github/samanharatian/Python-in-building-science/blob/main/CADR_Monte_Carlo_Analysis_V9_(ES%26T).ipynb\" target=\"_parent\"><img src=\"https://colab.research.google.com/assets/colab-badge.svg\" alt=\"Open In Colab\"/></a>"
      ]
    },
    {
      "cell_type": "markdown",
      "source": [
        "This code computes Equivalent Clean Air (ECA) flow rate, also knwon as clean air delivery rate (CADR), using two different approaches.\n",
        "\n",
        "\n",
        "\n",
        "1.   Log-linear approach\n",
        "2.   Integral approach\n"
      ],
      "metadata": {
        "id": "KUscXbI7mA9r"
      }
    },
    {
      "cell_type": "markdown",
      "source": [
        "First, we load all the neccessary Python libraries for the analysis and calcualtion. the followings are the python libraries used for this code."
      ],
      "metadata": {
        "id": "fH_YDLgrnf40"
      }
    },
    {
      "cell_type": "code",
      "execution_count": 18,
      "metadata": {
        "id": "_mIlIsA3gB2l"
      },
      "outputs": [],
      "source": [
        "import numpy as np\n",
        "from scipy import optimize\n",
        "import matplotlib.pyplot as plt\n",
        "from scipy import stats\n",
        "import pandas as pd\n",
        "from scipy.stats import ttest_1samp\n",
        "from scipy.stats import wilcoxon"
      ]
    },
    {
      "cell_type": "markdown",
      "source": [
        "Next, we have to import all concentrations measured alongside its corresponding measurment errors, either manually or through importing an external file.\n",
        "\n",
        "In the following setion, 8 different cases are provided as examples of concentration dataset. The examples used are as follows:\n",
        "\n",
        "\n",
        "\n",
        "\n",
        "*   Case #1: Non-biological particle by Zeng et al. [link](https://built-envi.com/wp-content/uploads/IIT-CADR-Testing-WINIX-5500-2-October-2021.pdf).\n",
        "\n",
        "*   Case #2: Hypothetical E. Coli by Stephens et al. [link](https://www.ashrae.org/file%20library/technical%20resources/covid-19/20-31_stephens.pdf).\n",
        "\n",
        "*   Case #3: High res. VOC (formaldehyde) by Schumacher [doi](https://doi.org/10.3390/atmos15010109)\n",
        "\n",
        "*   Case #4: Low res. VOC (formaldehyde) by Law et al. [doi](https://doi.org/10.1016/j.buildenv.2024.111823)\n",
        "\n",
        "*   Case #5-7: Bacteriophage MS2 by Ratliff et al. [doi](https://doi.org/10.1016/j.buildenv.2022.109804)\n",
        "\n",
        "\n",
        "\n",
        "*   Case #8: UVGI test by Lin et al. [doi](https://doi.org/10.1080/02786826.2017.1280128)\n",
        "\n",
        "\n",
        "\n",
        "\n",
        "\n",
        "\n"
      ],
      "metadata": {
        "id": "NjuD9JaKsMBw"
      }
    },
    {
      "cell_type": "markdown",
      "source": [
        "\n",
        "\n",
        "\n",
        "# ***Case #1: Real non-biological particles: Smoke (Truncated dataset)***"
      ],
      "metadata": {
        "id": "PYLi9DGBFRK8"
      }
    },
    {
      "cell_type": "code",
      "source": [
        "\n",
        "t_t = np.array([0, 1, 2, 3, 4, 5, 6, 7, 8, 9, 10,\n",
        "                11, 12, 13, 14, 15, 16, 17, 18, 19, 20, 21])                    # Time points\n",
        "\n",
        "t_c = np.array([0, 1,\t2, 3,\t4, 5,\t6, 7, 8, 9, 10,\n",
        "                11,\t12,\t13,\t14,\t15, 16,\t17,\t18,\t19,\t20,\t21])                    # Time points\n",
        "\n",
        "\n",
        "\n",
        "c_control = np.array([46629.5822,\t45262.5924,\t38944.8016,\t41968.5662,\t39470.0741,\n",
        "                   35389.2249,\t37112.7987,\t34422.0024,\t33845.9813,\t31813.524,\n",
        "                   30782.9434,\t29226.4405,\t27259.9242,\t27281.7278,\t26790.9496,\n",
        "                   25085.1379,\t22133.3491,\t22427.7312,\t21338.2308,\t18838.1459,\n",
        "                   19229.6865,\t19123.3036])                                    # Test concentrations (Ideal hypothetical first order)\n",
        "\n",
        "c_control=np.log10(c_control)\n",
        "\n",
        "c_test = np.array([20733.1887, 17199.744, 15496.7706, 13660.3969, 11310.3118,\n",
        "                     10883.8787, 9122.8056, 8170.2825, 6648.0319, 6299.9989,\n",
        "                     4945.4016, 4635.3165, 3815.3086,3194.0609, 2984.6603,\n",
        "                     2455.5343, 2276.8268, 1918.0086, 1619.6262, 1389.2609,\n",
        "                     1244.1919, 1231.9916])                                     # Control concentrations (Ideal hypothetical first order)\n",
        "c_test=np.log10(c_test)\n",
        "\n",
        "\n",
        "sigma_control = np.array([0., 0., 0., 0., 0., 0., 0., 0., 0.,\n",
        "                          0., 0., 0., 0., 0., 0., 0., 0.,0., 0., 0., 0., 0.])\n",
        "\n",
        "sigma_test = np.array([0., 0., 0., 0., 0., 0., 0., 0., 0., 0.,\n",
        "                       0., 0., 0., 0., 0., 0., 0., 0., 0., 0., 0., 0.])\n",
        "\n",
        "\n",
        "\n",
        "c_bg_test=113.7572667                                                           # If there is no background concentration, set to 0\n",
        "c_bg_control=607.22006143\n",
        "#c_bg_test = np.log10(c_bg_test)\n",
        "#c_bg_control = np.log10(c_bg_control)\n",
        "\n",
        "V = 1296.048                                                                    # Chamber volume (ft3) (Ideal hypothetical first order)\n",
        "#V = 36.7                                                                       # Chamber volume (m3) (Ideal hypothetical first order)"
      ],
      "metadata": {
        "id": "DZBbKyHAFZGn"
      },
      "execution_count": null,
      "outputs": []
    },
    {
      "cell_type": "markdown",
      "source": [
        "# ***Case #1: Real non-biological particles: Smoke (full dataset)***"
      ],
      "metadata": {
        "id": "ZD_YRD945-oh"
      }
    },
    {
      "cell_type": "code",
      "source": [
        "t_c = np.array([0, 1,\t2,\t3,\t4,\t5,\t6,\t7,\t8,\t9,\t10,\t11,\t12,\t13,\t14,\t15,\n",
        "                16,\t17,\t18,\t19,\t20,\t21,\t22,\t23,\t24,\t25,\t26,\t27,\t28,\t29,\t30,\t31,\n",
        "                32,\t33,\t34,\t35,\t36,\t37,\t38,\t39,\t40,\t41,\t42,\t43,\t44,\t45,\t46,\t47,\n",
        "                48,\t49,\t50,\t51,\t52,\t53,\t54,\t55,\t56,\t57,\t58,\t59])                # Time points'''\n",
        "\n",
        "\n",
        "\n",
        "\n",
        "t_t = np.array([0, 1, 2, 3, 4, 5, 6, 7, 8, 9, 10,\n",
        "                11, 12, 13, 14, 15, 16, 17, 18, 19, 20, 21])                    # Time points\n",
        "\n",
        "c_control = np.array([46629.5822,\t45262.5924,\t38944.8016,\t41968.5662,\t39470.0741,\n",
        "                   35389.2249,\t37112.7987,\t34422.0024,\t33845.9813,\t31813.524,\n",
        "                   30782.9434,\t29226.4405,\t27259.9242,\t27281.7278,\t26790.9496,\n",
        "                   25085.1379,\t22133.3491,\t22427.7312,\t21338.2308,\t18838.1459,\n",
        "                   19229.6865,\t19123.3036,\t18965.1773,\t17917.88,\t16800.8839,\n",
        "                   17120.304,\t15590.7547,\t15133.0791,\t14335.7846,\t14481.8507,\n",
        "                   13082.9319,\t13615.1729,\t12671.266,\t12284.8735,\t12212.7403,\n",
        "                   10803.6982,\t10626.2898,\t9913.9165,\t9592.189,\t9748.4621,\n",
        "                   9832.5099,\t8845.3218,\t8723.0745,\t8549.6231,\t7938.6471,\n",
        "                   7994.5961,\t7957.8449,\t7420.9003,\t7394.3616,\t6939.229,\n",
        "                   6480.9155,\t6413.2256,\t6032.8,\t6506.7329,\t5738.9208,\n",
        "                   5651.0126,\t5511.8419,\t5562.7665,\t5061.1998,\t5221.2187])   # Test concentrations (Ideal hypothetical first order)'''\n",
        "\n",
        "\n",
        "c_control=np.log10(c_control)\n",
        "\n",
        "c_test = np.array([20733.1887, 17199.744, 15496.7706, 13660.3969, 11310.3118,\n",
        "                     10883.8787, 9122.8056, 8170.2825, 6648.0319, 6299.9989,\n",
        "                     4945.4016, 4635.3165, 3815.3086,3194.0609, 2984.6603,\n",
        "                     2455.5343, 2276.8268, 1918.0086, 1619.6262, 1389.2609,\n",
        "                     1244.1919, 1231.9916])                                     # Control concentrations (Ideal hypothetical first order)\n",
        "c_test=np.log10(c_test)\n",
        "\n",
        "sigma_control = np.array([0., 0., 0., 0., 0., 0., 0., 0., 0.,\n",
        "                          0., 0., 0., 0., 0., 0., 0., 0., 0.,\n",
        "                          0., 0., 0., 0., 0., 0., 0., 0., 0.,\n",
        "                          0., 0., 0., 0., 0., 0., 0., 0., 0.,\n",
        "                          0., 0., 0., 0., 0., 0., 0., 0., 0.,\n",
        "                          0., 0., 0., 0., 0., 0., 0., 0., 0.,\n",
        "                          0., 0., 0., 0., 0., 0.])                              # Test standard deviations (Ideal hypothetical first order)\n",
        "\n",
        "\n",
        "sigma_test = np.array([0., 0., 0., 0., 0., 0., 0., 0., 0.,\n",
        "                       0., 0., 0., 0., 0., 0., 0., 0., 0.,\n",
        "                       0., 0., 0., 0.])\n",
        "\n",
        "\n",
        "\n",
        "c_bg_test=113.7572667                                                           # If there is no background concentration, set to 0\n",
        "c_bg_control=607.22006143\n",
        "\n",
        "#c_bg_test = np.log10(c_bg_test)\n",
        "#c_bg_control = np.log10(c_bg_control)                                          # Control standard deviations (Ideal hypothetical first order)\n",
        "V = 1296.048                                                                    # Chamber volume (ft3) (Ideal hypothetical first order)\n",
        "#V = NA                                                                         # Chamber volume (m3) (Ideal hypothetical first order)"
      ],
      "metadata": {
        "id": "7yq-FURr5r84"
      },
      "execution_count": null,
      "outputs": []
    },
    {
      "cell_type": "markdown",
      "source": [
        "# ***Case #2: Hypothetical E.Coli***"
      ],
      "metadata": {
        "id": "RGsrYxhxEEj9"
      }
    },
    {
      "cell_type": "code",
      "source": [
        "t_c = np.array([0, 15, 30, 45, 60 ])                                            # Time points\n",
        "t_t = np.array([0, 15, 30, 45, 60 ])                                            # Time points\n",
        "\n",
        "\n",
        "c_test = np.array([5000, 2700, 1200, 400, 100])                                 # Test concentrations (Ideal hypothetical first order)\n",
        "c_control = np.array([5000, 4200, 3000,2700, 2000])                             # Control concentrations (Ideal hypothetical first order)\n",
        "c_test = np.log10(c_test)\n",
        "c_control = np.log10(c_control)\n",
        "\n",
        "c_bg_test=1                                                                     # If there is no background concentration, set to 0\n",
        "c_bg_control=1\n",
        "c_bg_test = np.log10(c_bg_test)\n",
        "c_bg_control = np.log10(c_bg_control)\n",
        "\n",
        "\n",
        "sigma_test = np.array([0,0,0,0,0])                                              # Test standard deviations (Ideal hypothetical first order)\n",
        "sigma_control = np.array([0,0,0,0,0])                                           # Control standard deviations (Ideal hypothetical first order)\n",
        "V = 500                                                                         # Chamber volume (ft3) (Ideal hypothetical first order)\n",
        "#V = 14.2                                                                       # Chamber volume (m3) (Ideal hypothetical first order)"
      ],
      "metadata": {
        "id": "6Su1AcgYEM0i"
      },
      "execution_count": 2,
      "outputs": []
    },
    {
      "cell_type": "markdown",
      "source": [
        "# ***Case #3: Real VOC (High Resolution) (Schumacher et. al. 2024)***"
      ],
      "metadata": {
        "id": "DKvNnZrzUGzE"
      }
    },
    {
      "cell_type": "code",
      "source": [
        "# full dataset\n",
        "\n",
        "t_c = np.array([0, 1,\t2,\t3,\t4,\t5,\t6,\t7,\t8,\t9,\t10,\n",
        "                11,\t12,\t13,\t14,\t15, 16,\t17,\t18,\t19,\t20,\n",
        "                21,\t22,\t23,\t24,\t25,\t26,\t27,\t28,\t29,\t30,\n",
        "                31, 32,\t33,\t34,\t35,\t36,\t37,\t38,\t39,\t40,\n",
        "                41,\t42,\t43,\t44,\t45,\t46,\t47, 48,\t49,\t50,\n",
        "                51,\t52,\t53,\t54,\t55,\t56,\t57,\t58,\t59, 60])                        # Time points\n",
        "\n",
        "t_t = np.array([0, 1,\t2,\t3,\t4,\t5,\t6,\t7,\t8,\t9,\t10,\n",
        "                11,\t12,\t13,\t14,\t15, 16,\t17,\t18,\t19,\t20,\n",
        "                21,\t22,\t23,\t24,\t25,\t26,\t27,\t28,\t29,\t30,\n",
        "                31, 32,\t33,\t34,\t35,\t36,\t37,\t38,\t39,\t40,\n",
        "                41,\t42,\t43,\t44,\t45,\t46,\t47, 48,\t49,\t50,\n",
        "                51,\t52,\t53,\t54,\t55,\t56,\t57,\t58,\t59, 60])                        # Time points\n",
        "\n",
        "\n",
        "\n",
        "c_test = np.array([833.75, 761.28, 658.93, 567.20, 499.72, 451.38, 422.54,\n",
        "377.29, 321.06, 295.83, 223.47, 192.89, 168.51, 180.00, 154.03, 117.60, 114.59,\n",
        "94.81, 86.12, 74.05, 65.78, 61.08, 55.48, 51.09, 47.80, 43.67, 38.95, 35.24,\n",
        "32.66, 30.53, 28.45, 26.76, 27.44, 29.12, 23.70, 24.67, 21.88, 19.60, 18.40,\n",
        "17.51, 19.38, 19.07, 16.17, 14.67, 13.91, 13.55, 12.91, 12.21, 11.86, 12.43,\n",
        "12.45, 12.32, 11.57, 11.21, 11.55, 10.61, 10.93, 11.39, 11.73, 11.32, 11.30 ])\n",
        "\n",
        "c_test = np.log10(c_test)\n",
        "c_control = np.array([929.45, 951.57, 923.26, 906.75, 912.08, 933.73, 915.11,\n",
        "904.99, 891.02, 898.66, 899.28, 881.89, 880.40, 889.34, 888.76, 896.80, 891.25,\n",
        "880.13, 870.49, 862.30, 862.03, 866.09, 874.08, 864.19, 880.57, 872.92, 861.04,\n",
        "856.26, 862.26, 863.67, 843.84, 844.73, 842.50, 838.72, 844.15, 843.70, 855.47,\n",
        "834.44, 830.98, 823.93, 822.37, 825.25, 848.16, 812.26, 885.45, 863.72, 826.80,\n",
        "833.43, 822.13, 809.45, 806.02, 800.97, 801.26, 795.55, 836.46, 827.70, 785.76,\n",
        "786.31, 786.06, 851.69, 837.34])                                                     # Control concentrations (Ideal hypothetical first order)\n",
        "\n",
        "c_control = np.log10(c_control)\n",
        "sigma_test = np.array([0, 0, 0, 0, 0, 0, 0, 0, 0, 0,\n",
        "                       0, 0, 0, 0, 0, 0, 0, 0, 0, 0,\n",
        "                       0, 0, 0, 0, 0, 0, 0, 0, 0, 0,\n",
        "                       0, 0, 0, 0, 0, 0, 0, 0, 0, 0,\n",
        "                       0, 0, 0, 0, 0, 0, 0, 0, 0, 0,\n",
        "                       0, 0, 0, 0, 0, 0, 0, 0, 0, 0,\n",
        "                       0])                                                      # Test standard deviations (Ideal hypothetical first order)\n",
        "\n",
        "\n",
        "sigma_control = np.array([0, 0, 0, 0, 0, 0, 0, 0, 0, 0,\n",
        "                         0, 0, 0, 0, 0, 0, 0, 0, 0, 0,\n",
        "                         0, 0, 0, 0, 0, 0, 0, 0, 0, 0,\n",
        "                         0, 0, 0, 0, 0, 0, 0, 0, 0, 0,\n",
        "                         0, 0, 0, 0, 0, 0, 0, 0, 0, 0,\n",
        "                         0, 0, 0, 0, 0, 0, 0, 0, 0, 0,\n",
        "                         0])                                                    # Test standard deviations (Ideal hypothetical first order)\n",
        "\n",
        "c_bg_test=  0                                                                   # If there is no background concentration, set to 0\n",
        "c_bg_control=0\n",
        "#c_bg_test = np.log10(c_bg_test)\n",
        "#c_bg_control = np.log10(c_bg_control)\n",
        "\n",
        "V = 1034.72                                                                     # Chamber volume (ft3) (Ideal hypothetical first order)\n",
        "#V = 29.3                                                                       # Chamber volume (m3) (Ideal hypothetical first order)"
      ],
      "metadata": {
        "id": "AmOFpBuzUMg_"
      },
      "execution_count": null,
      "outputs": []
    },
    {
      "cell_type": "markdown",
      "source": [
        "# ***Case #3: Real VOC (High Resolution) from 0 to 20 minutes (Schumacher et. al. 2024)***"
      ],
      "metadata": {
        "id": "SpzIuMsqHvjB"
      }
    },
    {
      "cell_type": "code",
      "source": [
        "t_c = np.array([0, 1,\t2,\t3,\t4,\t5,\t6,\t7,\t8,\t9,\t10,\n",
        "                11,\t12,\t13,\t14,\t15, 16,\t17,\t18,\t19,\t20])                        # Time points\n",
        "\n",
        "t_t = np.array([0, 1,\t2,\t3,\t4,\t5,\t6,\t7,\t8,\t9,\t10,\n",
        "                11,\t12,\t13,\t14,\t15, 16,\t17,\t18,\t19,\t20])                        # Time points\n",
        "\n",
        "\n",
        "\n",
        "c_test = np.array([833.75, 761.28, 658.93, 567.20, 499.72, 451.38, 422.54,\n",
        "377.29, 321.06, 295.83, 223.47, 192.89, 168.51, 180.00, 154.03, 117.60, 114.59,\n",
        "94.81, 86.12, 74.05, 65.78])\n",
        "\n",
        "c_test = np.log10(c_test)\n",
        "c_control = np.array([929.45, 951.57, 923.26, 906.75, 912.08, 933.73, 915.11,\n",
        "904.99, 891.02, 898.66, 899.28, 881.89, 880.40, 889.34, 888.76, 896.80, 891.25,\n",
        "880.13, 870.49, 862.30, 862.03])                                                     # Control concentrations (Ideal hypothetical first order)\n",
        "\n",
        "c_control = np.log10(c_control)\n",
        "sigma_test = np.array([0, 0, 0, 0, 0, 0, 0, 0, 0, 0,\n",
        "                       0, 0, 0, 0, 0, 0, 0, 0, 0, 0, 0])                                                      # Test standard deviations (Ideal hypothetical first order)\n",
        "\n",
        "\n",
        "sigma_control = np.array([0, 0, 0, 0, 0, 0, 0, 0, 0, 0,\n",
        "                         0, 0, 0, 0, 0, 0, 0, 0, 0, 0, 0])                                                    # Test standard deviations (Ideal hypothetical first order)\n",
        "\n",
        "c_bg_test=0                                                                    # If there is no background concentration, set to 0\n",
        "c_bg_control=0\n",
        "#c_bg_test = np.log10(c_bg_test)\n",
        "#c_bg_control = np.log10(c_bg_control)\n",
        "\n",
        "V = 1034.72                                                                     # Chamber volume (ft3) (Ideal hypothetical first order)\n",
        "#V = 29.3                                                                       # Chamber volume (m3) (Ideal hypothetical first order)"
      ],
      "metadata": {
        "id": "Nf_RHBIsH5EI"
      },
      "execution_count": null,
      "outputs": []
    },
    {
      "cell_type": "markdown",
      "source": [
        "# ***Case #4: Law et al 2024 (truncated dataset)***\n"
      ],
      "metadata": {
        "id": "TYKl1XNa3Uo_"
      }
    },
    {
      "cell_type": "code",
      "source": [
        "#0-40 minutes for control and 0-25 minutes for test\n",
        "\n",
        "t_t = np.array([0, 5, 10, 15, 20, 25])                                          # Time points\n",
        "t_c = np.array([0, 5, 10, 15, 20, 25, 30, 35, 40 ])                             # Time points\n",
        "\n",
        "\n",
        "c_test = np.array([0.958783047,\t0.502557891,\t0.40034575,\n",
        "                   0.332838565,\t0.301776099,\t0.272451193])                     # Test concentrations\n",
        "\n",
        "c_control = np.array([0.972665911, 0.969369171, 0.959128797, 0.959302774,\n",
        "                      0.95947675, 0.950973937, 0.949412555, 0.940911944,\n",
        "                      0.941083718])                                             # Control concentrations\n",
        "\n",
        "sigma_test = np.array([0, 0, 0, 0, 0, 0 ])                                      # Test standard deviations\n",
        "sigma_control = np.array([0, 0, 0, 0, 0, 0, 0, 0, 0])                           # Control standard deviations\n",
        "\n",
        "c_test = np.log10(c_test)\n",
        "c_control=np.log10(c_control)\n",
        "\n",
        "\n",
        "c_bg_test=0.24                                                                  # If there is no background concentration, set to 0\n",
        "c_bg_control=0.65\n",
        "\n",
        "\n",
        "V = 1059.44174                                                                                                                                          # Chamber volume (ft3)\n",
        "#V = 30                                                                                                                                             # Chamber volume (m3)"
      ],
      "metadata": {
        "id": "pmif5AP73cwt"
      },
      "execution_count": null,
      "outputs": []
    },
    {
      "cell_type": "markdown",
      "source": [
        "\n",
        "\n",
        "\n",
        "# ***Case #4: Law et al 2024 (Full datset)***\n"
      ],
      "metadata": {
        "id": "5bohoyshGAK4"
      }
    },
    {
      "cell_type": "code",
      "source": [
        "t_c = np.array([0, 5, 10, 15, 20, 25, 30, 35, 40, 45, 50, 55, 60])              # Time points\n",
        "t_t = np.array([0, 5, 10, 15, 20, 25, 30, 35, 40, 45, 50, 55, 60])              # Time points\n",
        "\n",
        "\n",
        "#0-60 minutes dataset (full dataset)\n",
        "\n",
        "c_test = np.array([0.958783047, 0.502557891, 0.40034575, 0.332838565,\n",
        "                   0.301776099, 0.272451193, 0.272625169, 0.251974851,\n",
        "                   0.262558772, 0.262730546, 0.252494577, 0.252666351,\n",
        "                   0.24242818 ])                                                # Test concentrations\n",
        "\n",
        "c_test=np.log10(c_test)\n",
        "\n",
        "c_control = np.array([0.972665911, 0.969369171, 0.959128797, 0.959302774,\n",
        "                      0.95947675, 0.950973937, 0.949412555, 0.940911944,\n",
        "                      0.941083718, 0.910021252, 0.910193026, 0.899954854,\n",
        "                      0.901861986])                                             # Control concentrations\n",
        "\n",
        "c_control=np.log10(c_control)\n",
        "\n",
        "sigma_control = np.array([0, 0, 0, 0, 0, 0, 0, 0, 0, 0, 0, 0, 0])               # Control standard deviations\n",
        "sigma_test    = np.array([0, 0, 0, 0, 0, 0, 0, 0, 0, 0, 0, 0, 0 ])              # Test standard deviations\n",
        "\n",
        "\n",
        "c_bg_test=0.24                                                                  # If there is no background concentration, set to 0\n",
        "c_bg_control=0.65\n",
        "\n",
        "V = 1059.44174                                                                  # Chamber volume (ft3)\n",
        "#V = 30                                                                         # Chamber volume (m3)"
      ],
      "metadata": {
        "id": "10-9fzcjGFVF"
      },
      "execution_count": null,
      "outputs": []
    },
    {
      "cell_type": "markdown",
      "source": [
        "# ***Case #5: Ratliff et al BPI***"
      ],
      "metadata": {
        "id": "IeegmqbvChsq"
      }
    },
    {
      "cell_type": "code",
      "source": [
        "t_c = np.array([0, 15, 30, 60, 90 ,120 ])                                  # Time points\n",
        "t_t = np.array([0, 15, 30, 60, 90 ,120 ])                                  # Time points\n",
        "\n",
        "c_test = np.array([8.4619, 7.6279, 7.2164, 6.2079, 5.8852, 5.6428 ])               # Test concentrations (Ratliff BPI)\n",
        "c_control = np.array([8.4675, 7.6846, 7.1637, 7.0866, 6.2116, 6.1040])            # Control concentrations (Ratliff BPI)\n",
        "\n",
        "sigma_test = np.array([0.23, 0.24 ,0.51 ,0.52 ,0.53 ,0.5])                 # Test standard deviations (ratliff values)\n",
        "sigma_control = np.array([0.24 ,0.36, 0.39, 0.3, 0.36, 0.49])             # Control standard deviations (ratliff values)\n",
        "\n",
        "\n",
        "\n",
        "c_bg_test=0                                                                     # If there is no background concentration, set to 0\n",
        "c_bg_control=0\n",
        "\n",
        "\n",
        "V = 3000                                                                        # Chamber volume (ft3)\n",
        "#V = 85                                                                         # Chamber volume (m3)\n"
      ],
      "metadata": {
        "id": "BLmsy9RfjVpV"
      },
      "execution_count": 19,
      "outputs": []
    },
    {
      "cell_type": "markdown",
      "source": [
        "# ***Case #6: Ratliff et al PCO1***"
      ],
      "metadata": {
        "id": "-Y-Kh3nmi9Fx"
      }
    },
    {
      "cell_type": "code",
      "source": [
        "t_c = np.array([0, 15, 30, 60, 90])                                             # Time points\n",
        "t_t = np.array([0, 15, 30, 60, 90])                                             # Time points\n",
        "\n",
        "\n",
        "\n",
        "c_test = np.array([ 8.11212724060371, 7.589987734, 6.745802232,\n",
        "                   6.013936402, 5.394571206 ])                                  # Test concentrations\n",
        "\n",
        "c_control = np.array([8.46745953764963, 7.684595602, 7.163725729,\n",
        "                      7.086631702, 6.211568868])                                # Control concentrations\n",
        "\n",
        "\n",
        "sigma_test = np.array([\t0.108808569398572, 0.254108644,\t0.169662969,\n",
        "                       0.262771866,\t0.047624259])                              # Test standard deviations\n",
        "\n",
        "sigma_control = np.array([\t0.237966029977382, 0.358965447,\t0.393189888,\n",
        "                          0.301479043,\t0.361953917])                         # Control standard deviations\n",
        "\n",
        "\n",
        "\n",
        "c_bg_test=0                                                                     # If there is no background concentration, set to 0\n",
        "c_bg_control=0\n",
        "\n",
        "V = 3000                                                                        # Chamber volume (ft3)\n",
        "#V = 85                                                                         # Chamber volume (m3)"
      ],
      "metadata": {
        "id": "AFUVbTIrCiMI"
      },
      "execution_count": 10,
      "outputs": []
    },
    {
      "cell_type": "markdown",
      "source": [
        "# ***Case #7: Ratliff et al PCO2***"
      ],
      "metadata": {
        "id": "xDBJNHuAlkAb"
      }
    },
    {
      "cell_type": "code",
      "source": [
        "t_c = np.array([0, 15, 30, 60, 90])                                             # Time points\n",
        "t_t = np.array([0, 15, 30, 60, 90])                                             # Time points\n",
        "c_test = np.array([8.032891171, 7.087704857, 6.424694684,\n",
        "                   5.320557829, 4.709637767])                                   # Test concentrations\n",
        "\n",
        "c_control = np.array([8.467459538, 7.684595602, 7.163725729,\n",
        "                      7.086631702, 6.211568868])                                # Control concentrations\n",
        "\n",
        "sigma_test = np.array([0.033101768,\t0.029661622,\t0.219839957,\n",
        "                       0.117283171,\t0.129724927])                               # Test standard deviations\n",
        "\n",
        "sigma_control = np.array([0.23796603,\t0.358965447,\t0.393189888,\n",
        "                          0.301479043,\t0.361953917])                           # Control standard deviations\n",
        "\n",
        "\n",
        "\n",
        "c_bg_test=0                                                                     # If there is no background concentration, set to 0\n",
        "c_bg_control=0\n",
        "\n",
        "V = 3000                                                                        # Chamber volume (ft3)\n",
        "#V = 85                                                                         # Chamber volume (m3)"
      ],
      "metadata": {
        "id": "jKQ7dpGblpbg"
      },
      "execution_count": null,
      "outputs": []
    },
    {
      "cell_type": "markdown",
      "source": [
        "# Case #8: Lin et al 2017"
      ],
      "metadata": {
        "id": "AibLoiQbXPLw"
      }
    },
    {
      "cell_type": "code",
      "source": [
        "t_c = np.array([0, 10, 20, 30])                                                 # Time points (secs)\n",
        "t_c =  t_c/60                                                                   # Time points (mins)\n",
        "t_t = np.array([0, 10, 20, 30])                                                 # Time points (secs)\n",
        "t_t =  t_t/60                                                                   # Time points (mins)\n",
        "\n",
        "sf=np.array([1, 0.035, 0.023, 0.022])                                        # Survival fraction\n",
        "\n",
        "c_test1 = np.array([177.8, 5.5, 3, 2])                                           # Test concentrations [PFU/L]\n",
        "c_test = c_test1*1000                                                            # Test concentrations [PFU/m3]\n",
        "c_test=np.log10(c_test)\n",
        "\n",
        "c_control1 = c_test1/sf                                                           # Test concentrations [PFU/m3]\n",
        "c_control = c_control1*1000\n",
        "c_control=np.log10(c_control)\n",
        "\n",
        "\n",
        "#sigma_test    = np.array([0, 0, 0, 0 ])                                # Test standard deviations [PFU/L]\n",
        "sigma_test    = np.array([86400, 2200, 2600, 1500 ])                                # Test standard deviations [PFU/L]\n",
        "#sigma_control = np.array([0, 0, 0, 0 ])                                             # Control standard deviations\n",
        "sigma_control= np.array([86400, 1, 1, 1 ])/sf                                       # Control standard deviations\n",
        "\n",
        "sigma_control=np.log10(sigma_control)\n",
        "sigma_test=np.log10(sigma_test)\n",
        "\n",
        "c_bg_test=0                                                                     # If there is no background concentration, set to 0\n",
        "c_bg_control=0\n",
        "\n",
        "V = 206                                                                         # Chamber volume (ft3)\n",
        "#V = 5.8                                                                        # Chamber volume (m3)"
      ],
      "metadata": {
        "id": "xITOaWcdXH5u"
      },
      "execution_count": null,
      "outputs": []
    },
    {
      "cell_type": "markdown",
      "source": [
        "\n",
        "# **Monte Carlo Analysis**\n"
      ],
      "metadata": {
        "id": "tgtO_p2RsMVM"
      }
    },
    {
      "cell_type": "markdown",
      "source": [
        "## 1.Log-linear method:\n"
      ],
      "metadata": {
        "id": "IczpG5ak3yjg"
      }
    },
    {
      "cell_type": "markdown",
      "source": [
        "The loss rate in log-linear method  can be obtained using the following formula. The formula has been derived in a way that regression line always passes through zero.\n",
        "\n",
        "<!DOCTYPE html>\n",
        "<html>\n",
        "<head>\n",
        "  <meta charset=\"UTF-8\">\n",
        "  <script type=\"text/javascript\" async\n",
        "    src=\"https://cdnjs.cloudflare.com/ajax/libs/mathjax/2.7.7/MathJax.js?config=TeX-MML-AM_CHTML\">\n",
        "  </script>\n",
        "  <script type=\"text/x-mathjax-config\">\n",
        "    MathJax.Hub.Config({\n",
        "      tex2jax: {inlineMath: [['$','$'], ['\\\\(','\\\\)']]}\n",
        "    });\n",
        "  </script>\n",
        "</head>\n",
        "<body>\n",
        "  <p>\n",
        "    $$K = \\frac{\\sum_{i=0}^{np} t_i \\ln\\left(\\frac{C_i-C_bg}{C_0-C_bg\n",
        "    }\\right)}{\\sum_{i=0}^{np} t_i^2}$$\n",
        "  </p>\n",
        "</body>\n",
        "</html>\n",
        "\n",
        "Then, loss rates will be plugged into the CADR formula to obtain value for CADR\n",
        "\n",
        "<!DOCTYPE html>\n",
        "<html>\n",
        "<head>\n",
        "  <meta charset=\"UTF-8\">\n",
        "  <script type=\"text/javascript\" async\n",
        "    src=\"https://cdnjs.cloudflare.com/ajax/libs/mathjax/2.7.7/MathJax.js?config=TeX-MML-AM_CHTML\">\n",
        "  </script>\n",
        "  <script type=\"text/x-mathjax-config\">\n",
        "    MathJax.Hub.Config({\n",
        "      tex2jax: {inlineMath: [['$','$'], ['\\\\(','\\\\)']]}\n",
        "    });\n",
        "  </script>\n",
        "</head>\n",
        "<body>\n",
        "  <p>\n",
        "    $$CADR=V(K_{Test}-K_{Control})$$\n",
        "  </p>\n",
        "</body>\n",
        "</html>"
      ],
      "metadata": {
        "id": "JAHO_3aXtNCm"
      }
    },
    {
      "cell_type": "code",
      "source": [
        "num_simulations = 10000\n",
        "\n",
        "# Function to compute loss rate for either test or control\n",
        "def compute_component(t, c, c_bg):\n",
        "\n",
        "    #print((c / c[0]))\n",
        "    ln_c_ratio = -np.log((10**c-c_bg) / (10**c[0]-c_bg))\n",
        "\n",
        "    numerator = np.sum((t * ln_c_ratio) )\n",
        "    denominator = np.sum((t ** 2) )\n",
        "\n",
        "    return (numerator / denominator)\n",
        "\n",
        "# Original CADR value\n",
        "CADR_original = V * (compute_component(t_t, c_test, c_bg_test) - compute_component(t_c, c_control, c_bg_control))\n",
        "print(f\"Original CADR value = {CADR_original}\",\"\\n\")\n",
        "\n",
        "\n",
        "# Monte Carlo simulations\n",
        "CADR_values = np.zeros(num_simulations)\n",
        "\n",
        "for i in range(num_simulations):\n",
        "    c_test_simulated = np.random.normal((c_test), (sigma_test))\n",
        "    c_control_simulated = np.random.normal((c_control),(sigma_control))\n",
        "\n",
        "    CADR_values[i] = V * (compute_component(t_t, c_test_simulated, c_bg_test) - compute_component(t_c, c_control_simulated, c_bg_control))\n",
        "\n",
        "# Calculate mean and standard deviation of CADR\n",
        "\n",
        "# Use np.isnan() to identify NaN values and create a boolean mask\n",
        "mask = ~np.isnan(CADR_values)\n",
        "\n",
        "# Apply the mask to filter out NaN values\n",
        "CADR_values=  CADR_values[mask]\n",
        "\n",
        "CADR_mean = np.mean(CADR_values)\n",
        "CADR_std = np.std(CADR_values)\n",
        "\n",
        "print(f\"Mean CADR value from Monte Carlo simulations = {CADR_mean}\",\"\\n\")\n",
        "print(f\"Standard deviation of CADR value from Monte Carlo simulations = {CADR_std}\",\"\\n\")\n",
        "print(f\"Error = {100*CADR_std/CADR_mean}%\",\"\\n\")\n",
        "\n",
        "# Plotting the distribution of CADR values\n",
        "\n",
        "plt.hist(CADR_values, bins=50, alpha=0.7, color='b', edgecolor='black')\n",
        "plt.title('Distribution of CADR values from Monte Carlo simulations \\n(first-order decay method)')\n",
        "plt.xlabel('CADR ')\n",
        "plt.ylabel('Frequency')\n",
        "\n",
        "# Disable scientific notation for x-axis and y-axis\n",
        "plt.ticklabel_format(style='plain', axis='x')\n",
        "plt.ticklabel_format(style='plain', axis='y')\n",
        "\n",
        "# Optionally, adjust the format of the ticks\n",
        "from matplotlib.ticker import ScalarFormatter\n",
        "plt.gca().xaxis.set_major_formatter(ScalarFormatter(useOffset=False))\n",
        "plt.gca().yaxis.set_major_formatter(ScalarFormatter(useOffset=False))\n",
        "\n",
        "plt.show()\n"
      ],
      "metadata": {
        "colab": {
          "base_uri": "https://localhost:8080/",
          "height": 632
        },
        "id": "NA9m7cIFOou_",
        "outputId": "24095fd7-b7eb-43b6-f188-8ffd85591dc8"
      },
      "execution_count": 20,
      "outputs": [
        {
          "output_type": "stream",
          "name": "stdout",
          "text": [
            "Original CADR value = 34.24001122168747 \n",
            "\n",
            "Mean CADR value from Monte Carlo simulations = 34.078023988188335 \n",
            "\n",
            "Standard deviation of CADR value from Monte Carlo simulations = 39.14097695819535 \n",
            "\n",
            "Error = 114.85694408737393% \n",
            "\n"
          ]
        },
        {
          "output_type": "display_data",
          "data": {
            "text/plain": [
              "<Figure size 640x480 with 1 Axes>"
            ],
            "image/png": "[encoded data removed]"
          },
          "metadata": {}
        }
      ]
    },
    {
      "cell_type": "markdown",
      "source": [
        "## 2.Intergral approach\n",
        "\n",
        "\n",
        "\n"
      ],
      "metadata": {
        "id": "cdL0b-AHzuCi"
      }
    },
    {
      "cell_type": "markdown",
      "source": [
        "\n",
        "The CADR base on the integral method can be calculated as follows:\n",
        "\n",
        "<!DOCTYPE html>\n",
        "<html lang=\"en\">\n",
        "<head>\n",
        "    <meta charset=\"UTF-8\">\n",
        "    <meta name=\"viewport\" content=\"width=device-width, initial-scale=1.0\">\n",
        "    <title>CADR Formula</title>\n",
        "    <script type=\"text/javascript\" async\n",
        "      src=\"https://cdnjs.cloudflare.com/ajax/libs/mathjax/2.7.7/MathJax.js?config=TeX-MML-AM_CHTML\">\n",
        "    </script>\n",
        "    <script type=\"text/x-mathjax-config\">\n",
        "      MathJax.Hub.Config({\n",
        "        tex2jax: {inlineMath: [['$','$'], ['\\\\(','\\\\)']]}\n",
        "      });\n",
        "    </script>\n",
        "</head>\n",
        "<body>\n",
        "    <div class=\"formula\">\n",
        "        $$ \\text{CADR}_{\\text{Integral}} = \\frac{\\text{V(C}_{\\text{test}}(0)-\\text{C}_{\\text{last}})}{\\int_{0}^{\\text{t}_{\\text{last}}} (C_{\\text{test}}(t)-C_{bg, test}) \\, dt} - \\frac{\\text{V(C}_{\\text{control}}(0)-\\text{C}_{\\text{last}})}{\\int_{0}^{\\text{t}_{last}}( C_{\\text{control}}(t)-C_{bg, control}) \\, dt} $$\n",
        "    </div>\n",
        "</body>\n",
        "</html>\n",
        "\n",
        "\n",
        " Where the integral in the denominator can be calculated using either trapezoidal or logarithmic trapezoidal method. here, we use logarithmic trapezoidal method which looks like the following:\n",
        "\n",
        " <!DOCTYPE html>\n",
        "<html lang=\"en\">\n",
        "<head>\n",
        "    <meta charset=\"UTF-8\">\n",
        "    <meta name=\"viewport\" content=\"width=device-width, initial-scale=1.0\">\n",
        "    <title>Integral Formula</title>\n",
        "    <script type=\"text/javascript\" async\n",
        "      src=\"https://cdnjs.cloudflare.com/ajax/libs/mathjax/2.7.7/MathJax.js?config=TeX-MML-AM_CHTML\">\n",
        "    </script>\n",
        "    <script type=\"text/x-mathjax-config\">\n",
        "      MathJax.Hub.Config({\n",
        "        tex2jax: {inlineMath: [['$','$'], ['\\\\(','\\\\)']]}\n",
        "      });\n",
        "    </script>\n",
        "</head>\n",
        "<body>\n",
        "    <div class=\"formula\">\n",
        "        $$ \\int_{0}^{\\text{t}_{last}} C(t) \\, dt = \\sum_{n=1}^{\\text{t}_{last}} \\left( \\frac{t_i - t_{i-1}}{\\ln\\left( \\frac{C(t_{i-1})-C_{bg}}{C(t_i)-C_{bg}\n",
        "        } \\right)} \\left( C(t_{i-1}) - C(t_i) \\right) \\right) $$\n",
        "    </div>\n",
        "</body>\n",
        "</html>\n"
      ],
      "metadata": {
        "id": "mEzVQsqFAls0"
      }
    },
    {
      "cell_type": "markdown",
      "source": [
        "###2.1. Log-Trapezoidal Method for numerical integration"
      ],
      "metadata": {
        "id": "ZUoU3L3WVcPp"
      }
    },
    {
      "cell_type": "code",
      "source": [
        "import numpy as np\n",
        "import matplotlib.pyplot as plt\n",
        "\n",
        "num_simulations = 10000\n",
        "\n",
        "# Function to compute the integral\n",
        "def compute_integral(t, c, c_bg):\n",
        "    N = len(t)\n",
        "    integral_sum = 0.0\n",
        "\n",
        "    for i in range(1, N):\n",
        "\n",
        "        t_diff = t[i] - t[i-1]\n",
        "        ln_c_ratio = np.log((10**c[i-1]-c_bg) / (10**c[i]-c_bg))\n",
        "        #print(ln_c_ratio)\n",
        "        c_diff = 10**c[i-1] - 10**c[i]\n",
        "        integral_sum += (t_diff / ln_c_ratio) * c_diff\n",
        "\n",
        "    return integral_sum\n",
        "\n",
        "# Function to compute the CADR component (similar to loss rate in log-linear method) for either test or control\n",
        "def compute_component(t, c, c_bg):\n",
        "\n",
        "    integral_c = compute_integral(t, c, c_bg)\n",
        "    #print(integral_c)\n",
        "    return (10**c[0]-10**c[-1]) / integral_c\n",
        "\n",
        "\n",
        "# Original CADR value\n",
        "CADR_original = V* (compute_component(t_t, c_test, c_bg_test) - compute_component(t_c, c_control, c_bg_control))\n",
        "\n",
        "print(\"test\",compute_component(t_t, c_test, c_bg_test))\n",
        "print(\"control\",compute_component(t_c, c_control, c_bg_control))\n",
        "print(f\"Original CADR value = {CADR_original}\\n\")\n",
        "\n",
        "# Monte Carlo simulations\n",
        "CADR_values = np.zeros(num_simulations)\n",
        "\n",
        "for i in range(num_simulations):\n",
        "\n",
        "#Use normal distribution just in case that input distribution is normal\n",
        "    c_test_simulated = np.random.normal(c_test, sigma_test)\n",
        "    c_control_simulated = np.random.normal(c_control, sigma_control)\n",
        "\n",
        "#Use lognormal distribution just in case that input distribution is not normal\n",
        "\n",
        "    #c_test_simulated = (np.random.lognormal(np.log(c_test), np.sqrt(np.log(1+(sigma_test**2)/(c_test**2))),len(sigma_test)))\n",
        "    #c_control_simulated =  (np.random.lognormal(np.log(c_control), np.sqrt(np.log(1+(sigma_control**2)/(c_control**2))),len(sigma_control)))\n",
        "\n",
        "    #c_test_simulated = np.random.uniform(-sigma_test ,sigma_test,len(sigma_test))\n",
        "    #c_control_simulated =  np.random.uniform(-sigma_control, sigma_control,len(sigma_control))\n",
        "\n",
        "    CADR_values[i] = V * (compute_component(t_t, c_test_simulated, c_bg_test) - compute_component(t_c, c_control_simulated, c_bg_control))\n",
        "\n",
        "# Calculate mean and standard deviation of CADR\n",
        "\n",
        "# Use np.isnan() to identify NaN values and create a boolean mask\n",
        "mask = ~np.isnan(CADR_values)\n",
        "\n",
        "# Apply the mask to filter out NaN values\n",
        "#CADR_values=  CADR_values[mask]\n",
        "CADR_mean = np.mean(CADR_values)\n",
        "CADR_std = np.std(CADR_values)\n",
        "\n",
        "\n",
        "# If the output distribution is heavly skewed, meaning it is not normal at all, calculate CADR amd its SD by eleminating 10% or 20% of data from both side of output distribution.\n",
        "# If the output distribution in normal, no need to eleminate any data.\n",
        "\n",
        "#CADR_mean = np.mean(CADR_values[(CADR_values > np.percentile(CADR_values, 0)) & (CADR_values < np.percentile(CADR_values, 100))])\n",
        "\n",
        "#CADR_std = np.std(CADR_values[(CADR_values > np.percentile(CADR_values, 0)) & (CADR_values < np.percentile(CADR_values, 100))])\n",
        "\n",
        "\n",
        "print(f\"Mean CADR value from Monte Carlo simulations = {CADR_mean}\\n\")\n",
        "print(f\"Standard deviation of CADR value from Monte Carlo simulations = {CADR_std}\\n\")\n",
        "print(f\"Error = {CADR_std / CADR_mean * 100}%\\n\")\n",
        "\n",
        "# Plotting the distribution of CADR values\n",
        "plt.hist(CADR_values, bins=50, alpha=0.7, color='b', edgecolor='black')\n",
        "plt.title('Distribution of CADR values from Monte Carlo simulations \\n(Integral method)')\n",
        "plt.xlabel('CADR ')\n",
        "plt.ylabel('Frequency')\n",
        "\n",
        "# Disable scientific notation for x-axis and y-axis\n",
        "plt.ticklabel_format(style='plain', axis='x')\n",
        "plt.ticklabel_format(style='plain', axis='y')\n",
        "\n",
        "# Optionally, adjust the format of the ticks\n",
        "from matplotlib.ticker import ScalarFormatter\n",
        "plt.gca().xaxis.set_major_formatter(ScalarFormatter(useOffset=False))\n",
        "plt.gca().yaxis.set_major_formatter(ScalarFormatter(useOffset=False))\n",
        "\n",
        "plt.show()\n",
        "\n",
        "\n"
      ],
      "metadata": {
        "colab": {
          "base_uri": "https://localhost:8080/",
          "height": 667
        },
        "id": "9tc0-dbJAkDH",
        "outputId": "7924e5c5-d12b-45db-c0fe-3ac4360af47c"
      },
      "execution_count": 21,
      "outputs": [
        {
          "output_type": "stream",
          "name": "stdout",
          "text": [
            "test 0.11183915539670848\n",
            "control 0.0953761433720592\n",
            "Original CADR value = 49.38903607394784\n",
            "\n",
            "Mean CADR value from Monte Carlo simulations = 41.17745111447245\n",
            "\n",
            "Standard deviation of CADR value from Monte Carlo simulations = 170.85816572866577\n",
            "\n",
            "Error = 414.93137895709873%\n",
            "\n"
          ]
        },
        {
          "output_type": "display_data",
          "data": {
            "text/plain": [
              "<Figure size 640x480 with 1 Axes>"
            ],
            "image/png": "[encoded data removed]"
          },
          "metadata": {}
        }
      ]
    },
    {
      "cell_type": "markdown",
      "source": [
        "###2.2. Trapezoidal Method for numerical integration"
      ],
      "metadata": {
        "id": "lhSzULJvnTrj"
      }
    },
    {
      "cell_type": "code",
      "source": [
        "import numpy as np\n",
        "import matplotlib.pyplot as plt\n",
        "\n",
        "\n",
        "num_simulations = 10000\n",
        "\n",
        "# Function to compute the integral\n",
        "def compute_integral(t, c, c_bg):\n",
        "    N = len(t)\n",
        "    integral_sum = 0.0\n",
        "\n",
        "    for i in range(1, N):\n",
        "\n",
        "        t_diff = t[i] - t[i-1]\n",
        "        c_sum = 10**c[i-1] + 10**c[i]\n",
        "        integral_sum += (t_diff * c_sum) / 2\n",
        "\n",
        "    return integral_sum\n",
        "\n",
        "# Function to compute the CADR component for either test or control\n",
        "def compute_component(t, c, c_bg):\n",
        "\n",
        "    integral_c = compute_integral(t, c, c_bg)\n",
        "    #print(integral_c)\n",
        "    return (10**c[0]-10**c[-1]) / integral_c\n",
        "\n",
        "\n",
        "# Original CADR value\n",
        "CADR_original = V* (compute_component(t_t, c_test, c_bg_test) - compute_component(t_c, c_control, c_bg_control))\n",
        "\n",
        "print(\"test\",compute_component(t_t, c_test, c_bg_test))\n",
        "print(\"control\",compute_component(t_c, c_control, c_bg_control))\n",
        "print(f\"Original CADR value = {CADR_original}\\n\")\n",
        "\n",
        "# Monte Carlo simulations\n",
        "CADR_values = np.zeros(num_simulations)\n",
        "\n",
        "for i in range(num_simulations):\n",
        "\n",
        "#Use normal distribution just in case that input distribution is normal\n",
        "\n",
        "    c_test_simulated = np.random.normal(c_test, sigma_test)\n",
        "    c_control_simulated = np.random.normal(c_control, sigma_control)\n",
        "\n",
        "    CADR_values[i] = V * (compute_component(t_t, c_test_simulated, c_bg_test) - compute_component(t_c, c_control_simulated, c_bg_control))\n",
        "\n",
        "# Calculate mean and standard deviation of CADR\n",
        "\n",
        "# Use np.isnan() to identify NaN values and create a boolean mask\n",
        "#mask = ~np.isnan(CADR_values)\n",
        "\n",
        "# Apply the mask to filter out NaN values\n",
        "CADR_values=  CADR_values[mask]\n",
        "CADR_mean = np.mean(CADR_values)\n",
        "CADR_std = np.std(CADR_values)\n",
        "\n",
        "# If the output distribution is heavly skewed, meaning it is not normal at all, calculate CADR amd its SD by eleminating 10% or 20% of data from both side of output distribution.\n",
        "# If the output distribution in normal, no need to eleminate any data.\n",
        "\n",
        "#CADR_mean = np.mean(CADR_values[(CADR_values > np.percentile(CADR_values, 10)) & (CADR_values < np.percentile(CADR_values, 90))])\n",
        "\n",
        "#CADR_std = np.std(CADR_values[(CADR_values > np.percentile(CADR_values, 10)) & (CADR_values < np.percentile(CADR_values, 90))])\n",
        "\n",
        "\n",
        "print(f\"Mean CADR value from Monte Carlo simulations = {CADR_mean}\\n\")\n",
        "print(f\"Standard deviation of CADR value from Monte Carlo simulations = {CADR_std}\\n\")\n",
        "print(f\"Error = {CADR_std / CADR_mean * 100}%\\n\")\n",
        "\n",
        "# Plotting the distribution of CADR values\n",
        "plt.hist(CADR_values, bins=50, alpha=0.7, color='b', edgecolor='black')\n",
        "plt.title('Distribution of CADR values from Monte Carlo simulations \\n(Integral method)')\n",
        "plt.xlabel('CADR ')\n",
        "plt.ylabel('Frequency')\n",
        "\n",
        "# Disable scientific notation for x-axis and y-axis\n",
        "plt.ticklabel_format(style='plain', axis='x')\n",
        "plt.ticklabel_format(style='plain', axis='y')\n",
        "\n",
        "# Optionally, adjust the format of the ticks\n",
        "from matplotlib.ticker import ScalarFormatter\n",
        "plt.gca().xaxis.set_major_formatter(ScalarFormatter(useOffset=False))\n",
        "plt.gca().yaxis.set_major_formatter(ScalarFormatter(useOffset=False))\n",
        "\n",
        "plt.show()\n"
      ],
      "metadata": {
        "colab": {
          "base_uri": "https://localhost:8080/",
          "height": 667
        },
        "id": "aD8SKCzYnbJ4",
        "outputId": "45d98e47-8df1-408c-a572-af8047ecb153"
      },
      "execution_count": 23,
      "outputs": [
        {
          "output_type": "stream",
          "name": "stdout",
          "text": [
            "test 0.0887841843029807\n",
            "control 0.07920965314974834\n",
            "Original CADR value = 28.723593459697064\n",
            "\n",
            "Mean CADR value from Monte Carlo simulations = 23.990398952083332\n",
            "\n",
            "Standard deviation of CADR value from Monte Carlo simulations = 93.51323873549889\n",
            "\n",
            "Error = 389.79442952272444%\n",
            "\n"
          ]
        },
        {
          "output_type": "display_data",
          "data": {
            "text/plain": [
              "<Figure size 640x480 with 1 Axes>"
            ],
            "image/png": "[encoded data removed]"
          },
          "metadata": {}
        }
      ]
    },
    {
      "cell_type": "markdown",
      "source": [
        "###2.3. log linear error porpagation\n"
      ],
      "metadata": {
        "id": "SqWU9aCZ_BSc"
      }
    },
    {
      "cell_type": "markdown",
      "source": [
        "Uncertainty prpagation for log-linear approach:\n",
        "\n",
        "Linear regression was used to estimate the slope through the straight line using the follwoing formula:\n",
        "$$\n",
        "K_{\\text{reg}} = - \\frac{\\sum_{i=1}^{n} t_i \\ln\\left(\\frac{C(t)}{C(0)}\\right)}{\\sum_{i=1}^{n} t_i^2}\n",
        "$$\n",
        "\n",
        "We also know that the error of regression can be obtained using:\n",
        "$$\n",
        "\\delta = \\sqrt\\frac{\\sum_{i=1}^{n} \\left( y_i - \\hat{y}_i \\right)^2}{(n-1) \\sum_{i=1}^{n} x_i^2}\n",
        "$$\n",
        "\n",
        "Based on the aformentioned formula, the regression error in the resulting loss rate is thus\n",
        "\n",
        "\n",
        "$$\n",
        "\\delta K_{\\text{reg}} = \\sqrt\\frac{\\sum_{i=1}^{n} \\left( \\ln\\left(\\frac{C(t_i)}{C(0)}\\right) - t_i \\frac{\\sum_{i=0}^{n} t_i \\ln\\left(\\frac{C(t)}{C(0)}\\right)}{\\sum_{i=1}^{n} t_i^2} \\right)^2}{(n-1) \\sum_{i=1}^{n} t_i^2}\n",
        "$$\n",
        "\n",
        "By applying MC method on both $K_{\\text{reg}}$ and $\\delta K_{\\text{reg}}$ we obtain:\n",
        "\n",
        "\n",
        "$$\n",
        "K_{\\text{reg}}=\\bar{K}_{\\text{reg}} \\pm \\sigma_{K_{\\text{reg}}}\n",
        "$$\n",
        "$$\n",
        " \\delta K_{\\text{reg}}= (\\delta K_{\\text{reg}} \\pm \\sigma_{\\delta K_{\\text{reg}}})\n",
        "$$\n",
        " which can be compined as follows ang results in total error or log-linear approach\n",
        "\n",
        "$$\n",
        "K = \\bar{K}_{\\text{reg}} \\pm \\sigma_{\\bar{K}_{\\text{reg}}} \\bar{\\pm (\\delta K_{\\text{reg}}} \\bar{\\pm \\sigma_{\\delta K_{\\text{reg}}}})\n",
        "$$\n",
        "\n",
        "\n",
        "In the following code, we call $\\bar{K_{\\text{reg}}}$ as K1 and  $\\bar{\\delta K_{\\text{reg}}}$ as K2:"
      ],
      "metadata": {
        "id": "Slpm0t5a09C8"
      }
    },
    {
      "cell_type": "code",
      "source": [
        "import numpy as np\n",
        "import matplotlib.pyplot as plt\n",
        "from scipy.stats import t\n",
        "from scipy import stats\n",
        "num_simulations = 5000\n",
        "\n",
        "# Define the compute_k1 function using the first part of the new formula\n",
        "def compute_k1(t, c,c_bg):\n",
        "    ln_c_ratio = -np.log((10**c-c_bg) / (10**c[0]-c_bg))\n",
        "    numerator = np.sum(t * ln_c_ratio)\n",
        "    denominator = np.sum(t ** 2)\n",
        "    return numerator / denominator\n",
        "\n",
        "# Define the compute_k2 function using the second part of the new formula\n",
        "def compute_k2(t, c, k,c_bg, alpha=0.05):\n",
        "    ln_c_ratio = -np.log((10**c-c_bg) / (10**c[0]-c_bg))\n",
        "\n",
        "    # Calculate the mean of the time points\n",
        "    t_mean = np.mean(t)\n",
        "\n",
        "    # Calculate the second term\n",
        "    residual_sum = np.sum(((ln_c_ratio - k * t)) ** 2)\n",
        "    #print( k)\n",
        "    critical_value = stats.t.ppf(1- alpha / 2, len(t) - 1)\n",
        "    #second_term = critical_value * np.sqrt(residual_sum / ((len(t) - 1) * np.sum((t) ** 2)))\n",
        "    second_term = np.sqrt(residual_sum / ((len(t) - 1) * np.sum((t) ** 2)))\n",
        "    return second_term\n",
        "\n",
        "\n",
        "# Monte Carlo simulations for the first formula\n",
        "\n",
        "\n",
        "k1_values_test = np.zeros(num_simulations)\n",
        "k1_values_control = np.zeros(num_simulations)\n",
        "\n",
        "for i in range(num_simulations):\n",
        "    c_test_simulated = np.random.normal(c_test, sigma_test )\n",
        "    c_control_simulated = np.random.normal(c_control, sigma_control)\n",
        "\n",
        "    k1_values_test[i] = compute_k1(t_t, c_test_simulated,c_bg_test)\n",
        "    k1_values_control[i] = compute_k1(t_c, c_control_simulated, c_bg_control)\n",
        "\n",
        "# Monte Carlo simulations for the second formula\n",
        "k2_values_test = np.zeros(num_simulations)\n",
        "k2_values_control = np.zeros(num_simulations)\n",
        "\n",
        "for i in range(num_simulations):\n",
        "    c_test_simulated = np.random.normal(c_test, sigma_test )\n",
        "    c_control_simulated = np.random.normal(c_control, sigma_control)\n",
        "\n",
        "    k_test = compute_k1(t_t, c_test_simulated, c_bg_test)\n",
        "    k_control = compute_k1(t_c, c_control_simulated, c_bg_control)\n",
        "    k2_values_test[i] = compute_k2(t_t, c_test_simulated, k_test, c_bg_test)\n",
        "    k2_values_control[i] = compute_k2(t_c, c_control_simulated, k_control, c_bg_control)\n",
        "\n",
        "# Calculate mean and standard deviation for both formulas\n",
        "k1_mean_test = np.mean(k1_values_test)\n",
        "k1_std_test = np.std(k1_values_test)\n",
        "k1_mean_control = np.mean(k1_values_control)\n",
        "k1_std_control = np.std(k1_values_control)\n",
        "\n",
        "k2_mean_test = np.mean(k2_values_test)\n",
        "k2_std_test = np.std(k2_values_test)\n",
        "k2_mean_control = np.mean(k2_values_control)\n",
        "k2_std_control = np.std(k2_values_control)\n",
        "\n",
        "print(f\"Mean k1 value for test from Monte Carlo simulations = {k1_mean_test}\\n\")\n",
        "print(f\"Standard deviation of k1 value for test from Monte Carlo simulations = {k1_std_test}\\n\")\n",
        "print(f\"Mean k1 value for control from Monte Carlo simulations = {k1_mean_control}\\n\")\n",
        "print(f\"Standard deviation of k1 value for control from Monte Carlo simulations = {k1_std_control}\\n\")\n",
        "\n",
        "print(f\"Mean k2 value for test from Monte Carlo simulations = {k2_mean_test}\\n\")\n",
        "print(f\"Standard deviation of k2 value for test from Monte Carlo simulations = {k2_std_test}\\n\")\n",
        "print(f\"Mean k2 value for control from Monte Carlo simulations = {k2_mean_control}\\n\")\n",
        "print(f\"Standard deviation of k2 value for control from Monte Carlo simulations = {k2_std_control}\\n\")\n",
        "\n",
        "print(\"overall error for kt\", k1_std_test+k2_mean_test+k2_std_test)\n",
        "print(\"overall error for kc\", k1_std_control+k2_mean_control+k2_std_control)\n",
        "print(\"Overall uncertainty for log-linear\", V*np.sqrt((k1_std_test+k2_mean_test+k2_std_test)**2+(k1_std_control+k2_mean_control+k2_std_control)**2))\n",
        "# Plotting the distribution of k1 values\n",
        "plt.hist(k1_values_test, bins=50, alpha=0.7, color='b', edgecolor='black', label='k1 Test')\n",
        "plt.hist(k1_values_control, bins=50, alpha=0.7, color='r', edgecolor='black', label='k1 Control')\n",
        "plt.title('Distribution of k1 values from Monte Carlo simulations')\n",
        "plt.xlabel('k1')\n",
        "plt.ylabel('Frequency')\n",
        "plt.legend()\n",
        "plt.show()\n",
        "\n",
        "# Plotting the distribution of k2 values\n",
        "plt.hist(k2_values_test, bins=50, alpha=0.7, color='b', edgecolor='black', label='k2 Test')\n",
        "plt.hist(k2_values_control, bins=50, alpha=0.7, color='r', edgecolor='black', label='k2 Control')\n",
        "plt.title('Distribution of k2 values from Monte Carlo simulations')\n",
        "plt.xlabel('k2')\n",
        "plt.ylabel('Frequency')\n",
        "plt.legend()\n",
        "plt.show()\n"
      ],
      "metadata": {
        "colab": {
          "base_uri": "https://localhost:8080/",
          "height": 1000
        },
        "id": "M94LOEWKOro7",
        "outputId": "0a207935-db77-4738-bfbc-12d85d32c08a"
      },
      "execution_count": 17,
      "outputs": [
        {
          "output_type": "stream",
          "name": "stdout",
          "text": [
            "Mean k1 value for test from Monte Carlo simulations = 0.06399588061707079\n",
            "\n",
            "Standard deviation of k1 value for test from Monte Carlo simulations = 0.00927263123476958\n",
            "\n",
            "Mean k1 value for control from Monte Carlo simulations = 0.05251179736363529\n",
            "\n",
            "Standard deviation of k1 value for control from Monte Carlo simulations = 0.008658825863722706\n",
            "\n",
            "Mean k2 value for test from Monte Carlo simulations = 0.00814069239922525\n",
            "\n",
            "Standard deviation of k2 value for test from Monte Carlo simulations = 0.0027395153349879177\n",
            "\n",
            "Mean k2 value for control from Monte Carlo simulations = 0.006953418513919255\n",
            "\n",
            "Standard deviation of k2 value for control from Monte Carlo simulations = 0.0024550229705957625\n",
            "\n",
            "overall error for kt 0.020152838968982748\n",
            "overall error for kc 0.01806726734823772\n",
            "Overall uncertainty for log-linear 81.19770693487605\n"
          ]
        },
        {
          "output_type": "display_data",
          "data": {
            "text/plain": [
              "<Figure size 640x480 with 1 Axes>"
            ],
            "image/png": "[encoded data removed]"
          },
          "metadata": {}
        },
        {
          "output_type": "display_data",
          "data": {
            "text/plain": [
              "<Figure size 640x480 with 1 Axes>"
            ],
            "image/png": "[encoded data removed]"
          },
          "metadata": {}
        }
      ]
    }
  ]
}